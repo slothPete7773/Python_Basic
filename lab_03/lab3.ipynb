{
 "cells": [
  {
   "cell_type": "code",
   "execution_count": 1,
   "metadata": {},
   "outputs": [
    {
     "name": "stdout",
     "output_type": "stream",
     "text": [
      "['confirmed-cases-since-120465.csv', 'confirmed-cases-since-120465.xlsx', 'DESCRIBE_LOG_EVENTS_2021_01_24_20210725_170200.csv', 'DESCRIBE_LOG_EVENTS_2023 0625_164902.txt', 'DESCRIBE_LOG_EVENTS_20230625_154002.txt', 'DESCRIBE_LOG_EVENTS_20230625_160411.txt', 'DESCRIBE_LOG_EVENTS_20230625_160416.txt', 'DESCRIBE_LOG_EVENTS_20230625_160558.txt', 'DESCRIBE_LoG_EVENTS_20230625_165129.txt', 'DESCRIBE_LOG_EVENTS_20230625_254726.txt', 'ha_aod_003_dataenv_2.csv']\n"
     ]
    }
   ],
   "source": [
    "import pandas as pd\n",
    "import os\n",
    "# from os import path\n",
    "import re\n",
    "from itertools import groupby\n",
    "from operator import itemgetter\n",
    "\n",
    "\n",
    "LIMIT = 100\n",
    "PATH = \"./input\"\n",
    "DIR_LIST = [i for i in os.listdir(PATH)]\n",
    "print(DIR_LIST)\n"
   ]
  },
  {
   "cell_type": "code",
   "execution_count": 2,
   "metadata": {},
   "outputs": [
    {
     "name": "stdout",
     "output_type": "stream",
     "text": [
      "File: ./input/DESCRIBE_LOG_EVENTS_20230625_154002.txt\n",
      "File: ./input/DESCRIBE_LOG_EVENTS_20230625_160416.txt\n",
      "File: ./input/DESCRIBE_LOG_EVENTS_20230625_160558.txt\n"
     ]
    }
   ],
   "source": [
    "accumulated_log = []\n",
    "has_added_header = False\n",
    "_temp_filepaths = []\n",
    "# for file_name in [i for i in DIR_LIST if re.match(\"^describe_log_events_\\d{8}_\\d{6}.txt$\", i)]:\n",
    "for file_name in [i for i in DIR_LIST if re.match(\"^DESCRIBE_LOG_EVENTS_[0-9]{8}_[0-1]{1}[0-9]{1}[0-9]{4}.txt$\", i)]:\n",
    "    file_path = f\"{PATH}/{file_name}\"\n",
    "    \n",
    "    is_file = os.path.isfile(file_path)\n",
    "\n",
    "    if is_file:\n",
    "        _temp_filepaths.append(file_path)\n",
    "        with open(file_path, 'r') as file_log:\n",
    "            print(f\"File: {file_path}\")\n",
    "            is_header = True\n",
    "            # i = 0\n",
    "            line_count = 0\n",
    "            # print(file_log.read())\n",
    "            for line in file_log:\n",
    "                if (is_header):\n",
    "                    if not (has_added_header):\n",
    "                        accumulated_log.append(line.split('|'))\n",
    "                        has_added_header = True\n",
    "                    is_header = False\n",
    "                else:\n",
    "                    # i = i + 1\n",
    "                    # if (i >= 3):\n",
    "                    #     break\n",
    "                    # if (line_count == LIMIT):\n",
    "                    #     break\n",
    "\n",
    "                    if not (re.match(\"^\\d{4}.+$\", line)):\n",
    "                        continue\n",
    "                    # print(line.split('|'))\n",
    "                    # print(f\"line count: {line_count}\")\n",
    "                    accumulated_log.append(line.split(\"|\"))\n",
    "                    line_count += 1\n",
    "\n",
    "\n",
    "    # break\n"
   ]
  },
  {
   "cell_type": "code",
   "execution_count": 3,
   "metadata": {},
   "outputs": [
    {
     "name": "stdout",
     "output_type": "stream",
     "text": [
      "450001\n"
     ]
    }
   ],
   "source": [
    "print(len(accumulated_log))\n"
   ]
  },
  {
   "cell_type": "code",
   "execution_count": 4,
   "metadata": {},
   "outputs": [
    {
     "data": {
      "text/plain": [
       "[(0, 'DATE_TIME'),\n",
       " (1, 'NAME'),\n",
       " (2, 'CITY'),\n",
       " (3, 'ZIPCODE'),\n",
       " (4, 'BBAN'),\n",
       " (5, 'LOCALE'),\n",
       " (6, 'BANK_COUNTRY'),\n",
       " (7, 'IBAN'),\n",
       " (8, 'COUNTRY_CALLING_CODE'),\n",
       " (9, 'MSISDN'),\n",
       " (10, 'PHONE_NUMBER'),\n",
       " (11, 'STATUS'),\n",
       " (12, 'GENDER\\n')]"
      ]
     },
     "execution_count": 4,
     "metadata": {},
     "output_type": "execute_result"
    }
   ],
   "source": [
    "list(enumerate(accumulated_log[0]))"
   ]
  },
  {
   "cell_type": "code",
   "execution_count": 5,
   "metadata": {},
   "outputs": [
    {
     "name": "stdout",
     "output_type": "stream",
     "text": [
      "active records : 224553\n"
     ]
    }
   ],
   "source": [
    "def filter_active(record):\n",
    "    if (record[11] == 'active'):\n",
    "        return True\n",
    "    else:\n",
    "        return False\n",
    "        \n",
    "i = 0\n",
    "active_logs = list(filter(filter_active, accumulated_log))\n",
    "# for record in accumulated_log:\n",
    "#     if (filter_active(record)):\n",
    "#         active_log.append(record)\n",
    "#         i += 1\n",
    "\n",
    "# print(type(active_logs))\n",
    "print(f\"active records : {len(active_logs)}\")\n",
    "# for i in active_logs:\n",
    "#     print(i)  "
   ]
  },
  {
   "cell_type": "code",
   "execution_count": 6,
   "metadata": {},
   "outputs": [
    {
     "name": "stdout",
     "output_type": "stream",
     "text": [
      "gender: f\n",
      " | count: 112215\n",
      "gender: m\n",
      " | count: 112338\n"
     ]
    }
   ],
   "source": [
    "group_by_gender_output = []\n",
    "_temp_genders = []\n",
    "for _, value in groupby(sorted(active_logs, key=itemgetter(12)), key=itemgetter(12)):\n",
    "    value = list(value)\n",
    "    value_count = len(value)\n",
    "    print(f\"gender: {value[0][12]} | count: {value_count}\")\n",
    "    _temp_genders.append(f\"gender: {value[0][12]} | count: {value_count}\")\n",
    "    # break\n",
    "    # print(value)\n",
    "    group_by_gender_output.append(value)"
   ]
  },
  {
   "cell_type": "code",
   "execution_count": 7,
   "metadata": {},
   "outputs": [
    {
     "name": "stdout",
     "output_type": "stream",
     "text": [
      "minimum zipcode: 00501\n",
      "maximum zipcode: 99950\n"
     ]
    }
   ],
   "source": [
    "sorted_by_zipcode = sorted(active_logs, key=itemgetter(3))\n",
    "_temp_zipcode = f\"minimum zipcode: {sorted_by_zipcode[0][3]}\\nmaximum zipcode: {sorted_by_zipcode[-1][3]}\"\n",
    "print(f\"minimum zipcode: {sorted_by_zipcode[0][3]}\\nmaximum zipcode: {sorted_by_zipcode[-1][3]}\")"
   ]
  },
  {
   "cell_type": "code",
   "execution_count": 8,
   "metadata": {},
   "outputs": [
    {
     "name": "stdout",
     "output_type": "stream",
     "text": [
      "18130\n"
     ]
    }
   ],
   "source": [
    "def filter_phonenumber_format(record):\n",
    "    if (re.match(\"^\\(\\d{3}\\)\\d{3}-\\d{4}$\", record[10])):\n",
    "        return True\n",
    "    else:\n",
    "        return False\n",
    "\n",
    "phonenumber_output = []\n",
    "phonnumber_formats = list(filter(filter_phonenumber_format, active_logs))\n",
    "print(len(phonnumber_formats))\n",
    "# for i in phonnumber_formats:\n",
    "#     print(i[10])\n",
    "with open(\"./special_phonenumber.txt\", \"w\") as file:\n",
    "    for i in phonnumber_formats:\n",
    "        file.write(f'{i[10]}\\n')\n",
    "    # file.writelines(phonnumber_formats)"
   ]
  },
  {
   "cell_type": "code",
   "execution_count": 9,
   "metadata": {},
   "outputs": [
    {
     "name": "stdout",
     "output_type": "stream",
     "text": [
      "Summary\n",
      "Processed files:\n",
      "./input/DESCRIBE_LOG_EVENTS_20230625_154002.txt\n",
      "./input/DESCRIBE_LOG_EVENTS_20230625_160416.txt\n",
      "./input/DESCRIBE_LOG_EVENTS_20230625_160558.txt\n",
      "Total records: 450000\n",
      "status active records : 224553\n",
      "gender: f\n",
      " | count: 112215\n",
      "gender: m\n",
      " | count: 112338\n",
      "minimum zipcode: 00501\n",
      "maximum zipcode: 99950\n"
     ]
    }
   ],
   "source": [
    "print(\"Summary\")\n",
    "\n",
    "print(f\"Processed files:\")\n",
    "for i in _temp_filepaths:\n",
    "    print(i)\n",
    "print(f\"Total records: {len(accumulated_log)-1}\")\n",
    "\n",
    "print(f\"status active records : {len(active_logs)}\")\n",
    "\n",
    "for i in _temp_genders:\n",
    "    print(i)\n",
    "\n",
    "print(_temp_zipcode)\n",
    "\n",
    "answers_text = f\"\"\"\n",
    "\n",
    "\"\"\" "
   ]
  },
  {
   "cell_type": "code",
   "execution_count": null,
   "metadata": {},
   "outputs": [],
   "source": []
  }
 ],
 "metadata": {
  "kernelspec": {
   "display_name": ".venv",
   "language": "python",
   "name": "python3"
  },
  "language_info": {
   "codemirror_mode": {
    "name": "ipython",
    "version": 3
   },
   "file_extension": ".py",
   "mimetype": "text/x-python",
   "name": "python",
   "nbconvert_exporter": "python",
   "pygments_lexer": "ipython3",
   "version": "3.10.9"
  },
  "orig_nbformat": 4
 },
 "nbformat": 4,
 "nbformat_minor": 2
}
