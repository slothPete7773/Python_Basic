{
 "cells": [
  {
   "cell_type": "code",
   "execution_count": 34,
   "metadata": {},
   "outputs": [
    {
     "name": "stdout",
     "output_type": "stream",
     "text": [
      "['confirmed-cases-since-120465.csv', 'confirmed-cases-since-120465.xlsx', 'DESCRIBE_LOG_EVENTS_2021_01_24_20210725_170200.csv', 'DESCRIBE_LOG_EVENTS_2023 0625_164902.txt', 'DESCRIBE_LOG_EVENTS_20230625_154002.txt', 'DESCRIBE_LOG_EVENTS_20230625_160411.txt', 'DESCRIBE_LOG_EVENTS_20230625_160416.txt', 'DESCRIBE_LOG_EVENTS_20230625_160558.txt', 'DESCRIBE_LoG_EVENTS_20230625_165129.txt', 'DESCRIBE_LOG_EVENTS_20230625_254726.txt', 'ha_aod_003_dataenv_2.csv']\n"
     ]
    }
   ],
   "source": [
    "import pandas as pd\n",
    "import sys\n",
    "import os\n",
    "# from os import path\n",
    "import re\n",
    "from itertools import groupby\n",
    "from operator import itemgetter\n",
    "import logging\n",
    "import logging.handlers\n",
    "log_formatter = logging.Formatter('[%(asctime)s] {%(filename)s:%(lineno)d} %(levelname)s - %(message)s')\n",
    "logging.basicConfig(stream=sys.stdout, format='[%(asctime)s] {%(filename)s:%(lineno)d} %(levelname)s - %(message)s')\n",
    "log = logging.getLogger()\n",
    "log.setLevel(logging.INFO)\n",
    "\n",
    "LIMIT = 100\n",
    "PATH = \"./input\"\n",
    "DIR_LIST = [i for i in os.listdir(PATH)]\n",
    "print(DIR_LIST)\n"
   ]
  },
  {
   "cell_type": "code",
   "execution_count": 35,
   "metadata": {},
   "outputs": [
    {
     "name": "stdout",
     "output_type": "stream",
     "text": [
      "[2023-07-04 21:46:58,377] {2948869347.py:10} INFO - Processed file : ./input/DESCRIBE_LOG_EVENTS_20230625_154002.txt\n",
      "[2023-07-04 21:46:58,869] {2948869347.py:10} INFO - Processed file : ./input/DESCRIBE_LOG_EVENTS_20230625_160416.txt\n",
      "[2023-07-04 21:46:59,395] {2948869347.py:10} INFO - Processed file : ./input/DESCRIBE_LOG_EVENTS_20230625_160558.txt\n"
     ]
    }
   ],
   "source": [
    "accumulated_log = []\n",
    "has_added_header = False\n",
    "for file_name in [i for i in DIR_LIST if re.match(\"^DESCRIBE_LOG_EVENTS_[0-9]{8}_[0-1]{1}[0-9]{1}[0-9]{4}.txt$\", i)]:\n",
    "    file_path = f\"{PATH}/{file_name}\"\n",
    "    \n",
    "    is_file = os.path.isfile(file_path)\n",
    "\n",
    "    if is_file:\n",
    "        with open(file_path, 'r') as file_log:\n",
    "            log.info(f\"Processed file : {file_path}\")\n",
    "            \n",
    "            is_header = True\n",
    "            line_count = 0\n",
    "            for line in file_log:\n",
    "                if (is_header):\n",
    "                    if not (has_added_header):\n",
    "                        accumulated_log.append(line.split('|'))\n",
    "                        has_added_header = True\n",
    "                    is_header = False\n",
    "                else:\n",
    "                    if not (re.match(\"^\\d{4}.+$\", line)):\n",
    "                        continue\n",
    "                    accumulated_log.append(line.rstrip().split(\"|\"))\n",
    "                    line_count += 1\n"
   ]
  },
  {
   "cell_type": "code",
   "execution_count": 36,
   "metadata": {},
   "outputs": [
    {
     "name": "stdout",
     "output_type": "stream",
     "text": [
      "[2023-07-04 21:47:01,187] {2395206342.py:1} INFO - Total processed record(s) : 450000\n"
     ]
    }
   ],
   "source": [
    "log.info(f\"Total processed record(s) : {len(accumulated_log)-1}\")\n"
   ]
  },
  {
   "cell_type": "code",
   "execution_count": 37,
   "metadata": {},
   "outputs": [
    {
     "data": {
      "text/plain": [
       "[(0, 'DATE_TIME'),\n",
       " (1, 'NAME'),\n",
       " (2, 'CITY'),\n",
       " (3, 'ZIPCODE'),\n",
       " (4, 'BBAN'),\n",
       " (5, 'LOCALE'),\n",
       " (6, 'BANK_COUNTRY'),\n",
       " (7, 'IBAN'),\n",
       " (8, 'COUNTRY_CALLING_CODE'),\n",
       " (9, 'MSISDN'),\n",
       " (10, 'PHONE_NUMBER'),\n",
       " (11, 'STATUS'),\n",
       " (12, 'GENDER\\n')]"
      ]
     },
     "execution_count": 37,
     "metadata": {},
     "output_type": "execute_result"
    }
   ],
   "source": [
    "list(enumerate(accumulated_log[0]))"
   ]
  },
  {
   "cell_type": "code",
   "execution_count": 38,
   "metadata": {},
   "outputs": [
    {
     "name": "stdout",
     "output_type": "stream",
     "text": [
      "[2023-07-04 21:47:01,351] {1994419476.py:9} INFO - Total active record(s) : 224553\n"
     ]
    }
   ],
   "source": [
    "def filter_active(record):\n",
    "    if (record[11] == 'active'):\n",
    "        return True\n",
    "    else:\n",
    "        return False\n",
    "        \n",
    "i = 0\n",
    "active_logs = list(filter(filter_active, accumulated_log))\n",
    "log.info(f\"Total active record(s) : {len(active_logs)}\")"
   ]
  },
  {
   "cell_type": "code",
   "execution_count": 39,
   "metadata": {},
   "outputs": [
    {
     "name": "stdout",
     "output_type": "stream",
     "text": [
      "[2023-07-04 21:47:01,468] {2756953441.py:5} INFO - Total active record(s) in Gender [f] : 112215\n",
      "[2023-07-04 21:47:01,496] {2756953441.py:5} INFO - Total active record(s) in Gender [m] : 112338\n"
     ]
    }
   ],
   "source": [
    "group_by_gender_output = []\n",
    "for _, value in groupby(sorted(active_logs, key=itemgetter(12)), key=itemgetter(12)):\n",
    "    value = list(value)\n",
    "    value_count = len(value)\n",
    "    log.info(f\"Total active record(s) in Gender [{value[0][12]}] : {value_count}\")\n",
    "    group_by_gender_output.append(value)"
   ]
  },
  {
   "cell_type": "code",
   "execution_count": 40,
   "metadata": {},
   "outputs": [
    {
     "name": "stdout",
     "output_type": "stream",
     "text": [
      "[2023-07-04 21:47:02,309] {150575055.py:2} INFO - Minimum number of zipcode : 00501\n",
      "[2023-07-04 21:47:02,310] {150575055.py:3} INFO - Maximum number of zipcode : 99950\n"
     ]
    }
   ],
   "source": [
    "sorted_by_zipcode = sorted(accumulated_log[1:], key=itemgetter(3))\n",
    "log.info(f\"Minimum number of zipcode : {sorted_by_zipcode[0][3]}\")\n",
    "log.info(f\"Maximum number of zipcode : {sorted_by_zipcode[-1][3]}\")"
   ]
  },
  {
   "cell_type": "code",
   "execution_count": 41,
   "metadata": {},
   "outputs": [
    {
     "name": "stdout",
     "output_type": "stream",
     "text": [
      "[2023-07-04 21:47:02,817] {2500381286.py:9} INFO - Total record(s) of special phone number format : 36164\n"
     ]
    }
   ],
   "source": [
    "def filter_phonenumber_format(record):\n",
    "    if (re.match(\"^\\(\\d{3}\\)\\d{3}-\\d{4}$\", record[10])):\n",
    "        return True\n",
    "    else:\n",
    "        return False\n",
    "\n",
    "phonenumber_output = []\n",
    "phonnumber_formats = list(filter(filter_phonenumber_format, accumulated_log))\n",
    "log.info(f\"Total record(s) of special phone number format : {len(phonnumber_formats)}\")\n",
    "with open(\"./special_phonenumber.txt\", \"w\") as file:\n",
    "    for i in phonnumber_formats:\n",
    "        file.write(f'{i[10]}\\n')"
   ]
  }
 ],
 "metadata": {
  "kernelspec": {
   "display_name": ".venv",
   "language": "python",
   "name": "python3"
  },
  "language_info": {
   "codemirror_mode": {
    "name": "ipython",
    "version": 3
   },
   "file_extension": ".py",
   "mimetype": "text/x-python",
   "name": "python",
   "nbconvert_exporter": "python",
   "pygments_lexer": "ipython3",
   "version": "3.10.9"
  },
  "orig_nbformat": 4
 },
 "nbformat": 4,
 "nbformat_minor": 2
}
